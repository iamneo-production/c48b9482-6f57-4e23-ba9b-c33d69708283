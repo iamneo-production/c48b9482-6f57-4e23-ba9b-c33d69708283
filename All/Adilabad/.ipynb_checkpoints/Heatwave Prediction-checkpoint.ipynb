{
 "cells": [
  {
   "cell_type": "code",
   "execution_count": null,
   "id": "382362a9",
   "metadata": {},
   "outputs": [],
   "source": [
    "import pandas as pd\n",
    "import numpy as np\n",
    "import matplotlib.pyplot as plt\n",
    "import prophet\n",
    "import pickle\n",
    "import datetime\n",
    "from prophet.diagnostics import performance_metrics\n",
    "from prophet.diagnostics import cross_validation\n",
    "Df = pd.read_csv('city_combined.csv')\n",
    "Df.drop('temp_min (⁰C)',axis=1,inplace=True)\n",
    "Df['windspeed(Kmph)']=(Df['wind_speed_max (Kmph)']+Df['wind_speed_min (Kmph)'])/2\n",
    "Df['Humidity(%)']=(Df['Humidity_max (%)']+Df['humidity_min (%)'])/2\n",
    "Df.drop(['wind_speed_min (Kmph)','humidity_min (%)','Humidity_max (%)','wind_speed_max (Kmph)'],axis=1,inplace=True)\n",
    "Df['windspeed(Kmph)'].fillna(value=Df['windspeed(Kmph)'].mean(),inplace=True)\n",
    "lockdowns = pd.DataFrame([\n",
    "    {'holiday': 'lockdown_1', 'ds': '2020-03-22', 'lower_window': 0, 'ds_upper': '2020-05-31'},\n",
    "    {'holiday': 'lockdown_2', 'ds': '2021-05-12', 'lower_window': 0, 'ds_upper': '2021-05-22'}])\n",
    "for t_col in ['ds', 'ds_upper']:\n",
    "    lockdowns[t_col] = pd.to_datetime(lockdowns[t_col])\n",
    "lockdowns['upper_window'] = (lockdowns['ds_upper'] - lockdowns['ds']).dt.days\n",
    "m=prophet.Prophet(growth='logistic',holidays=lockdowns,yearly_seasonality=True)\n",
    "m.add_country_holidays(country_name='IN')\n",
    "Df['ds']=Df['Date']\n",
    "Df['ds'] = pd.to_datetime(Df['ds'])\n",
    "Df['y']=Df['temp_max (⁰C)']\n",
    "cap=Df['temp_max (⁰C)'].max()+5\n",
    "Df['cap']=cap\n",
    "Df.drop([\"Date\",\"temp_max (⁰C)\"],axis=1,inplace=True)\n",
    "for i in ['Rainfall (mm)','windspeed(Kmph)',\n",
    "       'Humidity(%)']:\n",
    "    m.add_regressor(i)\n",
    "m.fit(Df)\n",
    "#with open('prophet_model_Adilabad.pkl', 'wb') as f:\n",
    "#     pickle.dump(m, f)\n",
    "future = m.make_future_dataframe(periods=498)\n",
    "today=[0,25,75]\n",
    "j=0\n",
    "for i in ['Rainfall (mm)','windspeed(Kmph)',\n",
    "       'Humidity(%)']:\n",
    "    future[i]=today[j]\n",
    "    j+=1\n",
    "future['cap']=cap\n",
    "forecast=m.predict(future)\n",
    "forecast=forecast[['ds','yhat','yhat_lower','yhat_upper']]"
   ]
  },
  {
   "cell_type": "code",
   "execution_count": null,
   "id": "6e3faae0",
   "metadata": {},
   "outputs": [],
   "source": [
    "df_cv = cross_validation(m, initial='1000 days', period='30 days', horizon='365 days',parallel=\"processes\")\n",
    "df_p = performance_metrics(df_cv)\n",
    "print(df_p['mae'].mean())"
   ]
  },
  {
   "cell_type": "code",
   "execution_count": null,
   "id": "4b808ee9",
   "metadata": {},
   "outputs": [],
   "source": []
  }
 ],
 "metadata": {
  "kernelspec": {
   "display_name": "Python 3 (ipykernel)",
   "language": "python",
   "name": "python3"
  },
  "language_info": {
   "codemirror_mode": {
    "name": "ipython",
    "version": 3
   },
   "file_extension": ".py",
   "mimetype": "text/x-python",
   "name": "python",
   "nbconvert_exporter": "python",
   "pygments_lexer": "ipython3",
   "version": "3.9.12"
  }
 },
 "nbformat": 4,
 "nbformat_minor": 5
}
