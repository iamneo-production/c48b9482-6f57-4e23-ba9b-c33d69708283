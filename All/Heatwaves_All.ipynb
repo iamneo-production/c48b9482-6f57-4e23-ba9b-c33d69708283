{
 "cells": [
  {
   "cell_type": "code",
   "execution_count": 1,
   "id": "058be8de",
   "metadata": {},
   "outputs": [
    {
     "ename": "NameError",
     "evalue": "name 'index' is not defined",
     "output_type": "error",
     "traceback": [
      "\u001b[1;31m---------------------------------------------------------------------------\u001b[0m",
      "\u001b[1;31mNameError\u001b[0m                                 Traceback (most recent call last)",
      "Input \u001b[1;32mIn [1]\u001b[0m, in \u001b[0;36m<cell line: 8>\u001b[1;34m()\u001b[0m\n\u001b[0;32m      4\u001b[0m \u001b[38;5;28;01mimport\u001b[39;00m \u001b[38;5;21;01mprophet\u001b[39;00m\n\u001b[0;32m      6\u001b[0m \u001b[38;5;66;03m#city indexes: Adilabad->0,Karimnagar->1,Khammam->2,Nizamabad->3,Warangal->4\u001b[39;00m\n\u001b[1;32m----> 8\u001b[0m \u001b[38;5;28;01mif\u001b[39;00m(\u001b[43mindex\u001b[49m\u001b[38;5;241m==\u001b[39m\u001b[38;5;241m0\u001b[39m):\n\u001b[0;32m      9\u001b[0m     Df\u001b[38;5;241m=\u001b[39mpd\u001b[38;5;241m.\u001b[39mread_csv(\u001b[38;5;124m\"\u001b[39m\u001b[38;5;124mAdilabad/city_combined.csv\u001b[39m\u001b[38;5;124m\"\u001b[39m)\n\u001b[0;32m     10\u001b[0m \u001b[38;5;28;01melif\u001b[39;00m(index\u001b[38;5;241m==\u001b[39m\u001b[38;5;241m1\u001b[39m):\n",
      "\u001b[1;31mNameError\u001b[0m: name 'index' is not defined"
     ]
    }
   ],
   "source": [
    "import pandas as pd\n",
    "import numpy as np\n",
    "import matplotlib.pyplot as plt\n",
    "import prophet\n",
    "\n",
    "#city indexes: Adilabad->0,Karimnagar->1,Khammam->2,Nizamabad->3,Warangal->4\n",
    "\n",
    "if(index==0):\n",
    "    Df=pd.read_csv(\"Adilabad/city_combined.csv\")\n",
    "elif(index==1):\n",
    "    Df=pd.read_csv(\"Karimnagar/city_combined.csv\")\n",
    "elif(index==2):\n",
    "    Df=pd.read_csv(\"Khammam/city_combined.csv\")\n",
    "elif(index==3):\n",
    "    Df=pd.read_csv(\"Nizamabad/city_combined.csv\")\n",
    "elif(index==4):\n",
    "    Df=pd.read_csv(\"Warangal/city_combined.csv\")\n",
    "\n",
    "Df.drop('temp_min (⁰C)',axis=1,inplace=True)\n",
    "\n",
    "\n",
    "Df['windspeed(Kmph)']=(Df['wind_speed_max (Kmph)']+Df['wind_speed_min (Kmph)'])/2\n",
    "Df['Humidity(%)']=(Df['Humidity_max (%)']+Df['humidity_min (%)'])/2\n",
    "Df.drop(['wind_speed_min (Kmph)','humidity_min (%)','Humidity_max (%)','wind_speed_max (Kmph)'],axis=1,inplace=True)\n",
    "\n",
    "Df['windspeed(Kmph)'].fillna(value=Df['windspeed(Kmph)'].mean(),inplace=True)\n",
    "\n",
    "lockdowns = pd.DataFrame([\n",
    "    {'holiday': 'lockdown_1', 'ds': '2020-03-22', 'lower_window': 0, 'ds_upper': '2020-05-31'},\n",
    "    {'holiday': 'lockdown_2', 'ds': '2021-05-12', 'lower_window': 0, 'ds_upper': '2021-05-22'}])\n",
    "for t_col in ['ds', 'ds_upper']:\n",
    "    lockdowns[t_col] = pd.to_datetime(lockdowns[t_col])\n",
    "lockdowns['upper_window'] = (lockdowns['ds_upper'] - lockdowns['ds']).dt.days\n",
    "\n",
    "m=prophet.Prophet(growth='logistic',holidays=lockdowns,yearly_seasonality=True)\n",
    "m.add_country_holidays(country_name='IN')\n",
    "Df['ds']=Df['Date']\n",
    "Df['ds'] = pd.to_datetime(Df['ds'])\n",
    "Df['y']=Df['temp_max (⁰C)']\n",
    "cap=Df['temp_max (⁰C)'].max()-2\n",
    "Df['cap']=cap\n",
    "Df.drop([\"Date\",\"temp_max (⁰C)\"],axis=1,inplace=True)\n",
    "for i in ['Rainfall (mm)','windspeed(Kmph)',\n",
    "       'Humidity(%)']:\n",
    "    m.add_regressor(i)\n",
    "\n",
    "m.fit(Df)\n",
    "future = m.make_future_dataframe(periods=365)\n",
    "today=[0,25,75,0.25,7.88]\n",
    "j=0\n",
    "for i in ['Rainfall (mm)','windspeed(Kmph)',\n",
    "       'Humidity(%)']:\n",
    "    future[i]=today[j]\n",
    "    j+=1\n",
    "future['cap']=cap\n",
    "forecast=m.predict(future)\n",
    "forecast=forecast[['ds','yhat','yhat_lower','yhat_upper']]"
   ]
  },
  {
   "cell_type": "code",
   "execution_count": null,
   "id": "dce9a493",
   "metadata": {},
   "outputs": [],
   "source": []
  }
 ],
 "metadata": {
  "kernelspec": {
   "display_name": "Python 3 (ipykernel)",
   "language": "python",
   "name": "python3"
  },
  "language_info": {
   "codemirror_mode": {
    "name": "ipython",
    "version": 3
   },
   "file_extension": ".py",
   "mimetype": "text/x-python",
   "name": "python",
   "nbconvert_exporter": "python",
   "pygments_lexer": "ipython3",
   "version": "3.9.12"
  }
 },
 "nbformat": 4,
 "nbformat_minor": 5
}
