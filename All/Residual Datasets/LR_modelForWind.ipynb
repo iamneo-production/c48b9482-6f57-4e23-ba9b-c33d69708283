{
 "cells": [
  {
   "cell_type": "code",
   "execution_count": null,
   "id": "8fa90558",
   "metadata": {},
   "outputs": [],
   "source": [
    "\n"
   ]
  },
  {
   "cell_type": "code",
   "execution_count": 1,
   "id": "635c1b74",
   "metadata": {},
   "outputs": [],
   "source": [
    "import glob"
   ]
  },
  {
   "cell_type": "code",
   "execution_count": 2,
   "id": "a9fbe349",
   "metadata": {},
   "outputs": [],
   "source": [
    "import pandas as pd"
   ]
  },
  {
   "cell_type": "code",
   "execution_count": 3,
   "id": "7950f979",
   "metadata": {},
   "outputs": [],
   "source": [
    "a=pd.read_csv(\"Nizamabad2018.csv\")\n",
    "b=pd.read_csv(\"Nizamabad2019.csv\")\n",
    "c=pd.read_csv(\"Nizamabad2020.csv\")"
   ]
  },
  {
   "cell_type": "code",
   "execution_count": 4,
   "id": "93f3b001",
   "metadata": {},
   "outputs": [],
   "source": [
    "c.columns=b.columns=a.columns"
   ]
  },
  {
   "cell_type": "code",
   "execution_count": 5,
   "id": "62122fdb",
   "metadata": {},
   "outputs": [],
   "source": [
    "def func(x):\n",
    "    if(x[3:5]=='01' or x[3:5]=='02' or x[3:5]=='03'):\n",
    "        return True\n",
    "    else:\n",
    "        return False\n",
    "for df in [a,b,c]:\n",
    "    df['Date']=df['Date'].apply(func)"
   ]
  },
  {
   "cell_type": "code",
   "execution_count": 6,
   "id": "01566a65",
   "metadata": {},
   "outputs": [],
   "source": [
    "a=a[a['Date']]\n",
    "b=b[b['Date']]\n",
    "c=c[c['Date']]\n"
   ]
  },
  {
   "cell_type": "code",
   "execution_count": 7,
   "id": "c14e9d17",
   "metadata": {},
   "outputs": [],
   "source": [
    "train=pd.concat([a,b,c],axis=0)"
   ]
  },
  {
   "cell_type": "code",
   "execution_count": 8,
   "id": "4e506e79",
   "metadata": {},
   "outputs": [],
   "source": [
    "train.drop('Date',axis=1,inplace=True)"
   ]
  },
  {
   "cell_type": "code",
   "execution_count": 9,
   "id": "404620a8",
   "metadata": {},
   "outputs": [
    {
     "data": {
      "text/plain": [
       "Index(['Rainfall (mm)', 'temp_min (⁰C)', 'temp_max (⁰C)', 'humidity_min (%)',\n",
       "       'Humidity_max (%)', 'wind_speed_min (Kmph)', 'wind_speed_max (Kmph)'],\n",
       "      dtype='object')"
      ]
     },
     "execution_count": 9,
     "metadata": {},
     "output_type": "execute_result"
    }
   ],
   "source": [
    "train.columns"
   ]
  },
  {
   "cell_type": "code",
   "execution_count": 10,
   "id": "aaf524d5",
   "metadata": {},
   "outputs": [],
   "source": [
    "train_X=train[['Rainfall (mm)', 'temp_min (⁰C)', 'temp_max (⁰C)', 'humidity_min (%)',\n",
    "       'Humidity_max (%)']]"
   ]
  },
  {
   "cell_type": "code",
   "execution_count": 11,
   "id": "0a66ce48",
   "metadata": {},
   "outputs": [],
   "source": [
    "train_Y=train[['wind_speed_min (Kmph)', 'wind_speed_max (Kmph)']]"
   ]
  },
  {
   "cell_type": "code",
   "execution_count": 12,
   "id": "67091a87",
   "metadata": {},
   "outputs": [],
   "source": [
    "from sklearn.linear_model import LinearRegression"
   ]
  },
  {
   "cell_type": "code",
   "execution_count": 13,
   "id": "ce2d2dd0",
   "metadata": {},
   "outputs": [
    {
     "data": {
      "text/html": [
       "<div>\n",
       "<style scoped>\n",
       "    .dataframe tbody tr th:only-of-type {\n",
       "        vertical-align: middle;\n",
       "    }\n",
       "\n",
       "    .dataframe tbody tr th {\n",
       "        vertical-align: top;\n",
       "    }\n",
       "\n",
       "    .dataframe thead th {\n",
       "        text-align: right;\n",
       "    }\n",
       "</style>\n",
       "<table border=\"1\" class=\"dataframe\">\n",
       "  <thead>\n",
       "    <tr style=\"text-align: right;\">\n",
       "      <th></th>\n",
       "      <th>Rainfall (mm)</th>\n",
       "      <th>temp_min (⁰C)</th>\n",
       "      <th>temp_max (⁰C)</th>\n",
       "      <th>humidity_min (%)</th>\n",
       "      <th>Humidity_max (%)</th>\n",
       "    </tr>\n",
       "  </thead>\n",
       "  <tbody>\n",
       "    <tr>\n",
       "      <th>0</th>\n",
       "      <td>0.0</td>\n",
       "      <td>13.684615</td>\n",
       "      <td>29.876923</td>\n",
       "      <td>27.620513</td>\n",
       "      <td>82.279487</td>\n",
       "    </tr>\n",
       "    <tr>\n",
       "      <th>1</th>\n",
       "      <td>0.0</td>\n",
       "      <td>13.669231</td>\n",
       "      <td>31.538462</td>\n",
       "      <td>26.541026</td>\n",
       "      <td>83.279487</td>\n",
       "    </tr>\n",
       "    <tr>\n",
       "      <th>2</th>\n",
       "      <td>0.0</td>\n",
       "      <td>13.869231</td>\n",
       "      <td>31.243590</td>\n",
       "      <td>26.571795</td>\n",
       "      <td>82.746154</td>\n",
       "    </tr>\n",
       "    <tr>\n",
       "      <th>3</th>\n",
       "      <td>0.0</td>\n",
       "      <td>13.710256</td>\n",
       "      <td>30.966667</td>\n",
       "      <td>26.387179</td>\n",
       "      <td>80.938462</td>\n",
       "    </tr>\n",
       "    <tr>\n",
       "      <th>4</th>\n",
       "      <td>0.0</td>\n",
       "      <td>14.158974</td>\n",
       "      <td>29.338462</td>\n",
       "      <td>30.294872</td>\n",
       "      <td>78.025641</td>\n",
       "    </tr>\n",
       "    <tr>\n",
       "      <th>...</th>\n",
       "      <td>...</td>\n",
       "      <td>...</td>\n",
       "      <td>...</td>\n",
       "      <td>...</td>\n",
       "      <td>...</td>\n",
       "    </tr>\n",
       "    <tr>\n",
       "      <th>86</th>\n",
       "      <td>0.0</td>\n",
       "      <td>22.931034</td>\n",
       "      <td>36.103448</td>\n",
       "      <td>34.565517</td>\n",
       "      <td>77.372414</td>\n",
       "    </tr>\n",
       "    <tr>\n",
       "      <th>87</th>\n",
       "      <td>0.0</td>\n",
       "      <td>22.765517</td>\n",
       "      <td>38.127586</td>\n",
       "      <td>25.037931</td>\n",
       "      <td>76.341379</td>\n",
       "    </tr>\n",
       "    <tr>\n",
       "      <th>88</th>\n",
       "      <td>0.0</td>\n",
       "      <td>23.572414</td>\n",
       "      <td>37.562069</td>\n",
       "      <td>25.441379</td>\n",
       "      <td>77.175862</td>\n",
       "    </tr>\n",
       "    <tr>\n",
       "      <th>89</th>\n",
       "      <td>0.0</td>\n",
       "      <td>22.400000</td>\n",
       "      <td>37.831034</td>\n",
       "      <td>30.386207</td>\n",
       "      <td>76.368966</td>\n",
       "    </tr>\n",
       "    <tr>\n",
       "      <th>90</th>\n",
       "      <td>0.0</td>\n",
       "      <td>22.493103</td>\n",
       "      <td>36.251724</td>\n",
       "      <td>36.617241</td>\n",
       "      <td>77.544828</td>\n",
       "    </tr>\n",
       "  </tbody>\n",
       "</table>\n",
       "<p>271 rows × 5 columns</p>\n",
       "</div>"
      ],
      "text/plain": [
       "    Rainfall (mm)  temp_min (⁰C)  temp_max (⁰C)  humidity_min (%)  \\\n",
       "0             0.0      13.684615      29.876923         27.620513   \n",
       "1             0.0      13.669231      31.538462         26.541026   \n",
       "2             0.0      13.869231      31.243590         26.571795   \n",
       "3             0.0      13.710256      30.966667         26.387179   \n",
       "4             0.0      14.158974      29.338462         30.294872   \n",
       "..            ...            ...            ...               ...   \n",
       "86            0.0      22.931034      36.103448         34.565517   \n",
       "87            0.0      22.765517      38.127586         25.037931   \n",
       "88            0.0      23.572414      37.562069         25.441379   \n",
       "89            0.0      22.400000      37.831034         30.386207   \n",
       "90            0.0      22.493103      36.251724         36.617241   \n",
       "\n",
       "    Humidity_max (%)  \n",
       "0          82.279487  \n",
       "1          83.279487  \n",
       "2          82.746154  \n",
       "3          80.938462  \n",
       "4          78.025641  \n",
       "..               ...  \n",
       "86         77.372414  \n",
       "87         76.341379  \n",
       "88         77.175862  \n",
       "89         76.368966  \n",
       "90         77.544828  \n",
       "\n",
       "[271 rows x 5 columns]"
      ]
     },
     "execution_count": 13,
     "metadata": {},
     "output_type": "execute_result"
    }
   ],
   "source": [
    "train_X"
   ]
  },
  {
   "cell_type": "code",
   "execution_count": 14,
   "id": "7115be7e",
   "metadata": {},
   "outputs": [
    {
     "data": {
      "text/plain": [
       "LinearRegression()"
      ]
     },
     "execution_count": 14,
     "metadata": {},
     "output_type": "execute_result"
    }
   ],
   "source": [
    "model=LinearRegression()\n",
    "model.fit(train_X,train_Y)\n"
   ]
  },
  {
   "cell_type": "code",
   "execution_count": 15,
   "id": "efe4f317",
   "metadata": {},
   "outputs": [],
   "source": [
    "predict=pd.read_csv(\"Nizamabad2021.csv\")"
   ]
  },
  {
   "cell_type": "code",
   "execution_count": 16,
   "id": "70c69ded",
   "metadata": {},
   "outputs": [],
   "source": [
    "predict['Date']=predict['Date'].apply(func)"
   ]
  },
  {
   "cell_type": "code",
   "execution_count": 17,
   "id": "9213efc7",
   "metadata": {},
   "outputs": [],
   "source": [
    "predict=predict[predict['Date']]"
   ]
  },
  {
   "cell_type": "code",
   "execution_count": 18,
   "id": "d95d983c",
   "metadata": {},
   "outputs": [],
   "source": [
    "predict.drop(['Date','wind_speed_min (Kmph)','wind_speed_max (Kmph)'],axis=1,inplace=True)\n"
   ]
  },
  {
   "cell_type": "code",
   "execution_count": 19,
   "id": "4aa0ac14",
   "metadata": {},
   "outputs": [],
   "source": [
    "predict_Y=model.predict(predict)"
   ]
  },
  {
   "cell_type": "code",
   "execution_count": 20,
   "id": "81ce282a",
   "metadata": {},
   "outputs": [],
   "source": [
    "res=pd.DataFrame(predict_Y)"
   ]
  },
  {
   "cell_type": "code",
   "execution_count": 21,
   "id": "9c561c19",
   "metadata": {},
   "outputs": [],
   "source": [
    "res.columns=['wind_speed_min (Kmph)','wind_speed_max (Kmph)']"
   ]
  },
  {
   "cell_type": "code",
   "execution_count": 22,
   "id": "011db6fc",
   "metadata": {},
   "outputs": [],
   "source": [
    "for i in range(len(res)):\n",
    "    min_s=res.iloc[i]['wind_speed_min (Kmph)']\n",
    "    max_s=res.iloc[i]['wind_speed_max (Kmph)']\n",
    "    res.iloc[i]['wind_speed_min (Kmph)']=min(min_s,max_s)\n",
    "    res.iloc[i]['wind_speed_max (Kmph)']=max(max_s,min_s)"
   ]
  },
  {
   "cell_type": "raw",
   "id": "44e865df",
   "metadata": {},
   "source": []
  },
  {
   "cell_type": "code",
   "execution_count": 23,
   "id": "8714560c",
   "metadata": {},
   "outputs": [],
   "source": [
    "res.to_csv(\"Nizamabad_wind_2021.csv\")"
   ]
  },
  {
   "cell_type": "code",
   "execution_count": null,
   "id": "30e20112",
   "metadata": {},
   "outputs": [],
   "source": []
  },
  {
   "cell_type": "code",
   "execution_count": null,
   "id": "9636f64b",
   "metadata": {},
   "outputs": [],
   "source": []
  }
 ],
 "metadata": {
  "kernelspec": {
   "display_name": "Python 3 (ipykernel)",
   "language": "python",
   "name": "python3"
  },
  "language_info": {
   "codemirror_mode": {
    "name": "ipython",
    "version": 3
   },
   "file_extension": ".py",
   "mimetype": "text/x-python",
   "name": "python",
   "nbconvert_exporter": "python",
   "pygments_lexer": "ipython3",
   "version": "3.9.12"
  }
 },
 "nbformat": 4,
 "nbformat_minor": 5
}
