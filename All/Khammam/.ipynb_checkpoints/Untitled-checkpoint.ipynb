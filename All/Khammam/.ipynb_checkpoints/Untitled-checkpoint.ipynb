{
 "cells": [
  {
   "cell_type": "code",
   "execution_count": null,
   "id": "8fa90558",
   "metadata": {},
   "outputs": [],
   "source": [
    "\n"
   ]
  },
  {
   "cell_type": "code",
   "execution_count": 1,
   "id": "635c1b74",
   "metadata": {},
   "outputs": [],
   "source": [
    "import glob"
   ]
  },
  {
   "cell_type": "code",
   "execution_count": 2,
   "id": "a9fbe349",
   "metadata": {},
   "outputs": [],
   "source": [
    "import pandas as pd"
   ]
  },
  {
   "cell_type": "code",
   "execution_count": 3,
   "id": "7950f979",
   "metadata": {},
   "outputs": [],
   "source": [
    "a=pd.read_csv(\"Khammam2018.csv\")\n",
    "b=pd.read_csv(\"Khammam2019.csv\")\n",
    "c=pd.read_csv(\"Khammam2020.csv\")"
   ]
  },
  {
   "cell_type": "code",
   "execution_count": 4,
   "id": "93f3b001",
   "metadata": {},
   "outputs": [],
   "source": [
    "c.columns=b.columns=a.columns"
   ]
  },
  {
   "cell_type": "code",
   "execution_count": 5,
   "id": "62122fdb",
   "metadata": {},
   "outputs": [],
   "source": [
    "def func(x):\n",
    "    if(x[3:5]=='01' or x[3:5]=='02' or x[3:5]=='03'):\n",
    "        return True\n",
    "    else:\n",
    "        return False\n",
    "for df in [a,b,c]:\n",
    "    df['Date']=df['Date'].apply(func)"
   ]
  },
  {
   "cell_type": "code",
   "execution_count": 6,
   "id": "01566a65",
   "metadata": {},
   "outputs": [],
   "source": [
    "a=a[a['Date']]\n",
    "b=b[b['Date']]\n",
    "c=c[c['Date']]\n"
   ]
  },
  {
   "cell_type": "code",
   "execution_count": 7,
   "id": "c14e9d17",
   "metadata": {},
   "outputs": [],
   "source": [
    "train=pd.concat([a,b,c],axis=0)"
   ]
  },
  {
   "cell_type": "code",
   "execution_count": 8,
   "id": "4e506e79",
   "metadata": {},
   "outputs": [],
   "source": [
    "train.drop('Date',axis=1,inplace=True)"
   ]
  },
  {
   "cell_type": "code",
   "execution_count": 9,
   "id": "404620a8",
   "metadata": {},
   "outputs": [
    {
     "data": {
      "text/plain": [
       "Index(['Rainfall (mm)', 'temp_min (⁰C)', 'temp_max (⁰C)', 'humidity_min (%)',\n",
       "       'Humidity_max (%)', 'wind_speed_min (Kmph)', 'wind_speed_max (Kmph)'],\n",
       "      dtype='object')"
      ]
     },
     "execution_count": 9,
     "metadata": {},
     "output_type": "execute_result"
    }
   ],
   "source": [
    "train.columns"
   ]
  },
  {
   "cell_type": "code",
   "execution_count": 10,
   "id": "aaf524d5",
   "metadata": {},
   "outputs": [],
   "source": [
    "train_X=train[['Rainfall (mm)', 'temp_min (⁰C)', 'temp_max (⁰C)', 'humidity_min (%)',\n",
    "       'Humidity_max (%)']]"
   ]
  },
  {
   "cell_type": "code",
   "execution_count": 11,
   "id": "0a66ce48",
   "metadata": {},
   "outputs": [],
   "source": [
    "train_Y=train[['wind_speed_min (Kmph)', 'wind_speed_max (Kmph)']]"
   ]
  },
  {
   "cell_type": "code",
   "execution_count": 12,
   "id": "67091a87",
   "metadata": {},
   "outputs": [],
   "source": [
    "from sklearn.linear_model import LinearRegression"
   ]
  },
  {
   "cell_type": "code",
   "execution_count": 13,
   "id": "ce2d2dd0",
   "metadata": {},
   "outputs": [
    {
     "data": {
      "text/html": [
       "<div>\n",
       "<style scoped>\n",
       "    .dataframe tbody tr th:only-of-type {\n",
       "        vertical-align: middle;\n",
       "    }\n",
       "\n",
       "    .dataframe tbody tr th {\n",
       "        vertical-align: top;\n",
       "    }\n",
       "\n",
       "    .dataframe thead th {\n",
       "        text-align: right;\n",
       "    }\n",
       "</style>\n",
       "<table border=\"1\" class=\"dataframe\">\n",
       "  <thead>\n",
       "    <tr style=\"text-align: right;\">\n",
       "      <th></th>\n",
       "      <th>Rainfall (mm)</th>\n",
       "      <th>temp_min (⁰C)</th>\n",
       "      <th>temp_max (⁰C)</th>\n",
       "      <th>humidity_min (%)</th>\n",
       "      <th>Humidity_max (%)</th>\n",
       "    </tr>\n",
       "  </thead>\n",
       "  <tbody>\n",
       "    <tr>\n",
       "      <th>0</th>\n",
       "      <td>0.0</td>\n",
       "      <td>18.302632</td>\n",
       "      <td>33.076316</td>\n",
       "      <td>36.728947</td>\n",
       "      <td>80.894737</td>\n",
       "    </tr>\n",
       "    <tr>\n",
       "      <th>1</th>\n",
       "      <td>0.0</td>\n",
       "      <td>18.439474</td>\n",
       "      <td>33.397368</td>\n",
       "      <td>36.763158</td>\n",
       "      <td>90.165789</td>\n",
       "    </tr>\n",
       "    <tr>\n",
       "      <th>2</th>\n",
       "      <td>0.0</td>\n",
       "      <td>17.513158</td>\n",
       "      <td>32.781579</td>\n",
       "      <td>39.244737</td>\n",
       "      <td>93.289474</td>\n",
       "    </tr>\n",
       "    <tr>\n",
       "      <th>3</th>\n",
       "      <td>0.0</td>\n",
       "      <td>15.213158</td>\n",
       "      <td>32.131579</td>\n",
       "      <td>32.242105</td>\n",
       "      <td>87.921053</td>\n",
       "    </tr>\n",
       "    <tr>\n",
       "      <th>4</th>\n",
       "      <td>0.0</td>\n",
       "      <td>14.744737</td>\n",
       "      <td>31.297368</td>\n",
       "      <td>29.915789</td>\n",
       "      <td>84.692105</td>\n",
       "    </tr>\n",
       "    <tr>\n",
       "      <th>...</th>\n",
       "      <td>...</td>\n",
       "      <td>...</td>\n",
       "      <td>...</td>\n",
       "      <td>...</td>\n",
       "      <td>...</td>\n",
       "    </tr>\n",
       "    <tr>\n",
       "      <th>86</th>\n",
       "      <td>0.0</td>\n",
       "      <td>23.442857</td>\n",
       "      <td>37.661905</td>\n",
       "      <td>39.571429</td>\n",
       "      <td>93.742857</td>\n",
       "    </tr>\n",
       "    <tr>\n",
       "      <th>87</th>\n",
       "      <td>0.0</td>\n",
       "      <td>22.580952</td>\n",
       "      <td>37.571429</td>\n",
       "      <td>41.033333</td>\n",
       "      <td>86.942857</td>\n",
       "    </tr>\n",
       "    <tr>\n",
       "      <th>88</th>\n",
       "      <td>0.0</td>\n",
       "      <td>23.271429</td>\n",
       "      <td>38.195238</td>\n",
       "      <td>35.338095</td>\n",
       "      <td>81.404762</td>\n",
       "    </tr>\n",
       "    <tr>\n",
       "      <th>89</th>\n",
       "      <td>0.0</td>\n",
       "      <td>23.328571</td>\n",
       "      <td>39.052381</td>\n",
       "      <td>33.004762</td>\n",
       "      <td>87.285714</td>\n",
       "    </tr>\n",
       "    <tr>\n",
       "      <th>90</th>\n",
       "      <td>0.0</td>\n",
       "      <td>24.114286</td>\n",
       "      <td>38.704762</td>\n",
       "      <td>33.785714</td>\n",
       "      <td>90.766667</td>\n",
       "    </tr>\n",
       "  </tbody>\n",
       "</table>\n",
       "<p>271 rows × 5 columns</p>\n",
       "</div>"
      ],
      "text/plain": [
       "    Rainfall (mm)  temp_min (⁰C)  temp_max (⁰C)  humidity_min (%)  \\\n",
       "0             0.0      18.302632      33.076316         36.728947   \n",
       "1             0.0      18.439474      33.397368         36.763158   \n",
       "2             0.0      17.513158      32.781579         39.244737   \n",
       "3             0.0      15.213158      32.131579         32.242105   \n",
       "4             0.0      14.744737      31.297368         29.915789   \n",
       "..            ...            ...            ...               ...   \n",
       "86            0.0      23.442857      37.661905         39.571429   \n",
       "87            0.0      22.580952      37.571429         41.033333   \n",
       "88            0.0      23.271429      38.195238         35.338095   \n",
       "89            0.0      23.328571      39.052381         33.004762   \n",
       "90            0.0      24.114286      38.704762         33.785714   \n",
       "\n",
       "    Humidity_max (%)  \n",
       "0          80.894737  \n",
       "1          90.165789  \n",
       "2          93.289474  \n",
       "3          87.921053  \n",
       "4          84.692105  \n",
       "..               ...  \n",
       "86         93.742857  \n",
       "87         86.942857  \n",
       "88         81.404762  \n",
       "89         87.285714  \n",
       "90         90.766667  \n",
       "\n",
       "[271 rows x 5 columns]"
      ]
     },
     "execution_count": 13,
     "metadata": {},
     "output_type": "execute_result"
    }
   ],
   "source": [
    "train_X"
   ]
  },
  {
   "cell_type": "code",
   "execution_count": 14,
   "id": "7115be7e",
   "metadata": {},
   "outputs": [
    {
     "data": {
      "text/plain": [
       "LinearRegression()"
      ]
     },
     "execution_count": 14,
     "metadata": {},
     "output_type": "execute_result"
    }
   ],
   "source": [
    "model=LinearRegression()\n",
    "model.fit(train_X,train_Y)\n"
   ]
  },
  {
   "cell_type": "code",
   "execution_count": 16,
   "id": "efe4f317",
   "metadata": {},
   "outputs": [],
   "source": [
    "predict=pd.read_csv(\"Khammam2021.csv\")"
   ]
  },
  {
   "cell_type": "code",
   "execution_count": 17,
   "id": "70c69ded",
   "metadata": {},
   "outputs": [],
   "source": [
    "predict['Date']=predict['Date'].apply(func)"
   ]
  },
  {
   "cell_type": "code",
   "execution_count": 18,
   "id": "9213efc7",
   "metadata": {},
   "outputs": [],
   "source": [
    "predict=predict[predict['Date']]"
   ]
  },
  {
   "cell_type": "code",
   "execution_count": 19,
   "id": "d95d983c",
   "metadata": {},
   "outputs": [],
   "source": [
    "predict.drop(['Date','wind_speed_min (Kmph)','wind_speed_max (Kmph)'],axis=1,inplace=True)\n"
   ]
  },
  {
   "cell_type": "code",
   "execution_count": 20,
   "id": "4aa0ac14",
   "metadata": {},
   "outputs": [],
   "source": [
    "predict_Y=model.predict(predict)"
   ]
  },
  {
   "cell_type": "code",
   "execution_count": 21,
   "id": "81ce282a",
   "metadata": {},
   "outputs": [],
   "source": [
    "res=pd.DataFrame(predict_Y)"
   ]
  },
  {
   "cell_type": "code",
   "execution_count": 22,
   "id": "9c561c19",
   "metadata": {},
   "outputs": [],
   "source": [
    "res.columns=['wind_speed_min (Kmph)','wind_speed_max (Kmph)']"
   ]
  },
  {
   "cell_type": "code",
   "execution_count": 23,
   "id": "011db6fc",
   "metadata": {},
   "outputs": [],
   "source": [
    "for i in range(len(res)):\n",
    "    min_s=res.iloc[i]['wind_speed_min (Kmph)']\n",
    "    max_s=res.iloc[i]['wind_speed_max (Kmph)']\n",
    "    res.iloc[i]['wind_speed_min (Kmph)']=min(min_s,max_s)\n",
    "    res.iloc[i]['wind_speed_max (Kmph)']=max(max_s,min_s)"
   ]
  },
  {
   "cell_type": "raw",
   "id": "44e865df",
   "metadata": {},
   "source": []
  },
  {
   "cell_type": "code",
   "execution_count": 24,
   "id": "8714560c",
   "metadata": {},
   "outputs": [],
   "source": [
    "res.to_csv(\"Khammam_wind_2021.csv\")"
   ]
  },
  {
   "cell_type": "code",
   "execution_count": null,
   "id": "30e20112",
   "metadata": {},
   "outputs": [],
   "source": []
  },
  {
   "cell_type": "code",
   "execution_count": null,
   "id": "9636f64b",
   "metadata": {},
   "outputs": [],
   "source": []
  }
 ],
 "metadata": {
  "kernelspec": {
   "display_name": "Python 3 (ipykernel)",
   "language": "python",
   "name": "python3"
  },
  "language_info": {
   "codemirror_mode": {
    "name": "ipython",
    "version": 3
   },
   "file_extension": ".py",
   "mimetype": "text/x-python",
   "name": "python",
   "nbconvert_exporter": "python",
   "pygments_lexer": "ipython3",
   "version": "3.9.12"
  }
 },
 "nbformat": 4,
 "nbformat_minor": 5
}
