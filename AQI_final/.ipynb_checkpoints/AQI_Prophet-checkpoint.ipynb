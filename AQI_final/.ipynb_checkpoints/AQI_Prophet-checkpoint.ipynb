{
 "cells": [
  {
   "cell_type": "code",
   "execution_count": null,
   "id": "1f0759bd",
   "metadata": {},
   "outputs": [],
   "source": [
    "import pandas as pd\n",
    "import numpy as np\n",
    "import seaborn as sns\n",
    "import prophet\n",
    "import matplotlib.pyplot as plt\n",
    "\n",
    "Df=pd.read_csv(\"WeatherAndAQIData.csv\")\n",
    "Df=Df[['Date','AQI','PM2.5', 'PM10', 'NO2', 'SO2', 'CO', 'Ozone','relativehumidity_2m (%)', 'rain (mm)',\n",
    "       'windspeed_100m (km/h)', 'winddirection_100m (°)', 'temp']]\n",
    "Df['ds']=Df['Date']\n",
    "Df['y']=Df['AQI']\n",
    "cap=Df['AQI'].max()\n",
    "Df['cap']=cap\n",
    "Df.drop([\"Date\",\"AQI\"],axis=1,inplace=True)\n",
    "lockdowns = pd.DataFrame([\n",
    "    {'holiday': 'lockdown_1', 'ds': '2020-03-22', 'lower_window': 0, 'ds_upper': '2020-05-31'},\n",
    "    {'holiday': 'lockdown_2', 'ds': '2021-05-12', 'lower_window': 0, 'ds_upper': '2021-05-22'}])\n",
    "for t_col in ['ds', 'ds_upper']:\n",
    "    lockdowns[t_col] = pd.to_datetime(lockdowns[t_col])\n",
    "lockdowns['upper_window'] = (lockdowns['ds_upper'] - lockdowns['ds']).dt.days\n",
    "m=prophet.Prophet(growth='logistic',holidays=lockdowns)\n",
    "m.add_country_holidays(country_name='IN')\n",
    "for i in ['PM2.5', 'PM10', 'NO2', 'SO2', 'CO', 'Ozone','relativehumidity_2m (%)', ' 'rain (mm)',\n",
    "       'windspeed_100m (km/h)', 'winddirection_100m (°)', 'temp']:\n",
    "    m.add_regressor(i)\n",
    "m.fit(Df)\n",
    "future = m.make_future_dataframe(periods=365)\n",
    "today=[60,125,48,24.789,1.2,80,40.66,4.33,0.2,11,72,95,11]\n",
    "j=0\n",
    "for i in ['PM2.5', 'PM10', 'NO2', 'SO2', 'CO', 'Ozone','relativehumidity_2m (%)',  'rain (mm)',\n",
    "       'windspeed_100m (km/h)', 'winddirection_100m (°)', 'temp']:\n",
    "    future[i]=today[j]\n",
    "    j+=1\n",
    "future['cap']=cap\n",
    "forecast=m.predict(future)"
   ]
  },
  {
   "cell_type": "code",
   "execution_count": null,
   "id": "aceff792",
   "metadata": {},
   "outputs": [],
   "source": [
    "# Flask file will call a function of this script\n",
    "# API of particulates and weather conditions will be called up until today's date\n",
    "# User will give month as the input,for each day of that month,we will provide the AQI,Severity classify\n",
    "\n",
    "# Database (Navya)\n",
    "# Flask script->2 function \n",
    "# API call(code conversion to python->Aks)\n",
    "# scripts call->database updation\n",
    "# scripts->access database and return values\n",
    "# values returned will be visualised through frontend web technologies ()\n",
    "\n",
    "\n",
    "\n"
   ]
  }
 ],
 "metadata": {
  "kernelspec": {
   "display_name": "Python 3 (ipykernel)",
   "language": "python",
   "name": "python3"
  },
  "language_info": {
   "codemirror_mode": {
    "name": "ipython",
    "version": 3
   },
   "file_extension": ".py",
   "mimetype": "text/x-python",
   "name": "python",
   "nbconvert_exporter": "python",
   "pygments_lexer": "ipython3",
   "version": "3.9.12"
  }
 },
 "nbformat": 4,
 "nbformat_minor": 5
}
