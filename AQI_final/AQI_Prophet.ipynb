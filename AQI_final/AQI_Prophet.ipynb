{
 "cells": [
  {
   "cell_type": "code",
   "execution_count": null,
   "id": "1f0759bd",
   "metadata": {},
   "outputs": [],
   "source": [
    "import pandas as pd\n",
    "import numpy as np\n",
    "import seaborn as sns\n",
    "import prophet\n",
    "import matplotlib.pyplot as plt\n",
    "import pickle\n",
    "#'PM2.5', 'PM10', 'NO2', 'SO2', 'CO', 'Ozone','Humidity(%)','Rainfall (mm)','windspeed (kmph)', 'winddirection_100m (°)''min_temp', 'max_temp'\n",
    "Df=pd.read_csv(\"WeatherAndAQIData.csv\")\n",
    "Df=Df[['Date','AQI','PM2.5', 'PM10', 'NO2', 'SO2', 'CO', 'Ozone','Humidity(%)','Rainfall (mm)','windspeed (kmph)', 'winddirection_100m (°)','min_temp', 'max_temp']]\n",
    "Df.columns=['Date','AQI','PM2.5', 'PM10', 'NO2', 'SO2', 'CO', 'Ozone','Humidity(%)','Rainfall (mm)','windspeed (kmph)', 'winddirection_100m (°)','min_temp', 'max_temp']\n",
    "Df['ds']=Df['Date']\n",
    "Df['y']=Df['AQI']\n",
    "Df.drop([\"Date\",\"AQI\"],axis=1,inplace=True)\n",
    "lockdowns = pd.DataFrame([\n",
    "    {'holiday': 'lockdown_1', 'ds': '2020-03-22', 'lower_window': 0, 'ds_upper': '2020-05-31'},\n",
    "    {'holiday': 'lockdown_2', 'ds': '2021-05-12', 'lower_window': 0, 'ds_upper': '2021-05-22'}])\n",
    "for t_col in ['ds', 'ds_upper']:\n",
    "    lockdowns[t_col] = pd.to_datetime(lockdowns[t_col])\n",
    "lockdowns['upper_window'] = (lockdowns['ds_upper'] - lockdowns['ds']).dt.days\n",
    "m=prophet.Prophet(growth='linear',holidays=lockdowns)\n",
    "m.add_country_holidays(country_name='IN')\n",
    "for i in ['PM2.5', 'PM10', 'NO2', 'SO2', 'CO', 'Ozone','Humidity(%)','Rainfall (mm)','windspeed (kmph)', 'winddirection_100m (°)','min_temp', 'max_temp']:\n",
    "    m.add_regressor(i)\n",
    "m.fit(Df)\n",
    "with open('prophet_model_AQI.pkl', 'wb') as f:\n",
    "    pickle.dump(m, f)\n",
    "\n"
   ]
  },
  {
   "cell_type": "code",
   "execution_count": null,
   "id": "dc6558c2",
   "metadata": {},
   "outputs": [],
   "source": [
    "\n",
    "Df=pd.read_csv(\"WeatherAndAQIData.csv\")"
   ]
  },
  {
   "cell_type": "code",
   "execution_count": null,
   "id": "54907866",
   "metadata": {},
   "outputs": [],
   "source": [
    "Df.columns"
   ]
  },
  {
   "cell_type": "code",
   "execution_count": null,
   "id": "e89da56f",
   "metadata": {},
   "outputs": [],
   "source": []
  }
 ],
 "metadata": {
  "kernelspec": {
   "display_name": "Python 3 (ipykernel)",
   "language": "python",
   "name": "python3"
  },
  "language_info": {
   "codemirror_mode": {
    "name": "ipython",
    "version": 3
   },
   "file_extension": ".py",
   "mimetype": "text/x-python",
   "name": "python",
   "nbconvert_exporter": "python",
   "pygments_lexer": "ipython3",
   "version": "3.9.12"
  }
 },
 "nbformat": 4,
 "nbformat_minor": 5
}
